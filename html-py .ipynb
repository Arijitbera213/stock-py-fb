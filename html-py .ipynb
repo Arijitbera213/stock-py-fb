{
 "cells": [
  {
   "cell_type": "code",
   "execution_count": null,
   "id": "10a33ae2",
   "metadata": {},
   "outputs": [],
   "source": [
    "from werkzeug.wrappers import Request, Response\n",
    "from flask import Flask,render_template\n",
    "app = Flask(__name__,template_folder='.')\n",
    "\n",
    "@app.route(\"/\")\n",
    "def hello():\n",
    "    return render_template('index.html')\n",
    "@app.route('/test')\n",
    "def run_script():\n",
    "    file = open(r'script1.py', 'r').read()\n",
    "    return exec(file)\n",
    "\n",
    "if __name__ == '__main__':\n",
    "    from werkzeug.serving import run_simple\n",
    "    run_simple('localhost', 9000, app)"
   ]
  },
  {
   "cell_type": "code",
   "execution_count": null,
   "id": "82246c5c",
   "metadata": {},
   "outputs": [],
   "source": []
  }
 ],
 "metadata": {
  "kernelspec": {
   "display_name": "Python 3",
   "language": "python",
   "name": "python3"
  },
  "language_info": {
   "codemirror_mode": {
    "name": "ipython",
    "version": 3
   },
   "file_extension": ".py",
   "mimetype": "text/x-python",
   "name": "python",
   "nbconvert_exporter": "python",
   "pygments_lexer": "ipython3",
   "version": "3.8.8"
  }
 },
 "nbformat": 4,
 "nbformat_minor": 5
}
